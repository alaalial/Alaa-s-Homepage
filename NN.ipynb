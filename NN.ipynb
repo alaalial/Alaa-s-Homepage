{
  "nbformat": 4,
  "nbformat_minor": 0,
  "metadata": {
    "colab": {
      "name": "Untitled0.ipynb",
      "provenance": [],
      "authorship_tag": "ABX9TyNBtMv5J/V43LRauAPVbNgl",
      "include_colab_link": true
    },
    "kernelspec": {
      "name": "python3",
      "display_name": "Python 3"
    },
    "language_info": {
      "name": "python"
    },
    "accelerator": "GPU"
  },
  "cells": [
    {
      "cell_type": "markdown",
      "metadata": {
        "id": "view-in-github",
        "colab_type": "text"
      },
      "source": [
        "<a href=\"https://colab.research.google.com/github/alaalial/Alaa-s-Homepage/blob/master/NN.ipynb\" target=\"_parent\"><img src=\"https://colab.research.google.com/assets/colab-badge.svg\" alt=\"Open In Colab\"/></a>"
      ]
    },
    {
      "cell_type": "code",
      "execution_count": 11,
      "metadata": {
        "id": "eJEplhMEtBYb"
      },
      "outputs": [],
      "source": [
        "import tensorflow as tf"
      ]
    },
    {
      "cell_type": "code",
      "source": [
        ""
      ],
      "metadata": {
        "id": "VYMoaiojza_v"
      },
      "execution_count": null,
      "outputs": []
    },
    {
      "cell_type": "code",
      "source": [
        "from google.colab import drive\n",
        "drive.mount('/content/drive',force_remount=True )"
      ],
      "metadata": {
        "colab": {
          "base_uri": "https://localhost:8080/"
        },
        "id": "8heVA6V8zrzU",
        "outputId": "7f05ebe4-a686-434f-c108-d39e809c3386"
      },
      "execution_count": 5,
      "outputs": [
        {
          "output_type": "stream",
          "name": "stdout",
          "text": [
            "Mounted at /content/drive\n"
          ]
        }
      ]
    },
    {
      "cell_type": "code",
      "source": [
        "from google.colab import drive\n",
        "drive.mount('/content/drive')"
      ],
      "metadata": {
        "colab": {
          "base_uri": "https://localhost:8080/"
        },
        "outputId": "46a1f457-3b4e-4e8d-9254-3c3c22ef28a3",
        "id": "vWU1FvMWPjys"
      },
      "execution_count": null,
      "outputs": [
        {
          "output_type": "stream",
          "name": "stdout",
          "text": [
            "Drive already mounted at /content/drive; to attempt to forcibly remount, call drive.mount(\"/content/drive\", force_remount=True).\n"
          ]
        }
      ]
    },
    {
      "cell_type": "code",
      "source": [
        "tf.test.gpu_device_name()"
      ],
      "metadata": {
        "colab": {
          "base_uri": "https://localhost:8080/",
          "height": 35
        },
        "id": "Gg9aye13uraI",
        "outputId": "c7b6e062-60fe-45fa-d9b3-23b567efa1a7"
      },
      "execution_count": 2,
      "outputs": [
        {
          "output_type": "execute_result",
          "data": {
            "application/vnd.google.colaboratory.intrinsic+json": {
              "type": "string"
            },
            "text/plain": [
              "'/device:GPU:0'"
            ]
          },
          "metadata": {},
          "execution_count": 2
        }
      ]
    },
    {
      "cell_type": "code",
      "source": [
        "from tensorflow.python.client import device_lib\n",
        "device_lib.list_local_devices()"
      ],
      "metadata": {
        "colab": {
          "base_uri": "https://localhost:8080/"
        },
        "id": "L1vGFSSpuw-_",
        "outputId": "cd736ab0-0fde-4dbf-9c27-afd199ddfcc4"
      },
      "execution_count": 3,
      "outputs": [
        {
          "output_type": "execute_result",
          "data": {
            "text/plain": [
              "[name: \"/device:CPU:0\"\n",
              " device_type: \"CPU\"\n",
              " memory_limit: 268435456\n",
              " locality {\n",
              " }\n",
              " incarnation: 4185427239646018133\n",
              " xla_global_id: -1, name: \"/device:GPU:0\"\n",
              " device_type: \"GPU\"\n",
              " memory_limit: 14465892352\n",
              " locality {\n",
              "   bus_id: 1\n",
              "   links {\n",
              "   }\n",
              " }\n",
              " incarnation: 1747960849448187668\n",
              " physical_device_desc: \"device: 0, name: Tesla T4, pci bus id: 0000:00:04.0, compute capability: 7.5\"\n",
              " xla_global_id: 416903419]"
            ]
          },
          "metadata": {},
          "execution_count": 3
        }
      ]
    },
    {
      "cell_type": "code",
      "source": [
        "!cat /proc/meminfo"
      ],
      "metadata": {
        "colab": {
          "base_uri": "https://localhost:8080/"
        },
        "id": "Oa1vVuHTylDy",
        "outputId": "2a0531ad-1da4-4e93-a2a2-0772d7e242e5"
      },
      "execution_count": 5,
      "outputs": [
        {
          "output_type": "stream",
          "name": "stdout",
          "text": [
            "MemTotal:       13302920 kB\n",
            "MemFree:         8985136 kB\n",
            "MemAvailable:   11700624 kB\n",
            "Buffers:          130048 kB\n",
            "Cached:          2516708 kB\n",
            "SwapCached:            0 kB\n",
            "Active:          1627240 kB\n",
            "Inactive:        2315040 kB\n",
            "Active(anon):    1033472 kB\n",
            "Inactive(anon):    10700 kB\n",
            "Active(file):     593768 kB\n",
            "Inactive(file):  2304340 kB\n",
            "Unevictable:           0 kB\n",
            "Mlocked:               0 kB\n",
            "SwapTotal:             0 kB\n",
            "SwapFree:              0 kB\n",
            "Dirty:               412 kB\n",
            "Writeback:             0 kB\n",
            "AnonPages:       1295512 kB\n",
            "Mapped:           705516 kB\n",
            "Shmem:             11440 kB\n",
            "KReclaimable:     117708 kB\n",
            "Slab:             172788 kB\n",
            "SReclaimable:     117708 kB\n",
            "SUnreclaim:        55080 kB\n",
            "KernelStack:        5216 kB\n",
            "PageTables:        14424 kB\n",
            "NFS_Unstable:          0 kB\n",
            "Bounce:                0 kB\n",
            "WritebackTmp:          0 kB\n",
            "CommitLimit:     6651460 kB\n",
            "Committed_AS:    3928000 kB\n",
            "VmallocTotal:   34359738367 kB\n",
            "VmallocUsed:       51368 kB\n",
            "VmallocChunk:          0 kB\n",
            "Percpu:             1448 kB\n",
            "AnonHugePages:      2048 kB\n",
            "ShmemHugePages:        0 kB\n",
            "ShmemPmdMapped:        0 kB\n",
            "FileHugePages:         0 kB\n",
            "FilePmdMapped:         0 kB\n",
            "CmaTotal:              0 kB\n",
            "CmaFree:               0 kB\n",
            "HugePages_Total:       0\n",
            "HugePages_Free:        0\n",
            "HugePages_Rsvd:        0\n",
            "HugePages_Surp:        0\n",
            "Hugepagesize:       2048 kB\n",
            "Hugetlb:               0 kB\n",
            "DirectMap4k:      219968 kB\n",
            "DirectMap2M:     6068224 kB\n",
            "DirectMap1G:     9437184 kB\n"
          ]
        }
      ]
    },
    {
      "cell_type": "code",
      "source": [
        "!pip install -q keras\n"
      ],
      "metadata": {
        "id": "8BDT0qRYyrcO"
      },
      "execution_count": 1,
      "outputs": []
    },
    {
      "cell_type": "code",
      "source": [
        "import pandas as pd "
      ],
      "metadata": {
        "id": "GXIMawNm9T2I"
      },
      "execution_count": 10,
      "outputs": []
    },
    {
      "cell_type": "code",
      "source": [
        "# Artificial Neural Network\n",
        "\n",
        "\n",
        "# Part 1 - Data Preprocessing\n",
        "\n",
        "# Importing the libraries\n",
        "import numpy as np\n",
        "import matplotlib.pyplot as plt\n",
        "import pandas as pd\n",
        "\n",
        "# Importing the dataset\n",
        "dataset = pd.read_csv('/content/Churn_Modelling.csv')\n",
        "X = dataset.iloc[:, 3:13]\n",
        "y = dataset.iloc[:, 13]\n",
        "\n",
        "#Create dummy variables\n",
        "geography=pd.get_dummies(X[\"Geography\"],drop_first=True)\n",
        "gender=pd.get_dummies(X['Gender'],drop_first=True)\n",
        "\n",
        "## Concatenate the Data Frames\n",
        "\n",
        "X=pd.concat([X,geography,gender],axis=1)\n",
        "\n",
        "## Drop Unnecessary columns\n",
        "X=X.drop(['Geography','Gender'],axis=1)\n",
        "\n",
        "# Splitting the dataset into the Training set and Test set\n",
        "from sklearn.model_selection import train_test_split\n",
        "X_train, X_test, y_train, y_test = train_test_split(X, y, test_size = 0.2, random_state = 0)\n",
        "\n",
        "# Feature Scaling\n",
        "from sklearn.preprocessing import StandardScaler\n",
        "sc = StandardScaler()\n",
        "X_train = sc.fit_transform(X_train)\n",
        "X_test = sc.transform(X_test)\n",
        "\n",
        "# Part 2 - Now let's make the ANN!\n",
        "\n",
        "# Importing the Keras libraries and packages\n",
        "import keras\n",
        "from keras.models import Sequential\n",
        "from keras.layers import Dense\n",
        "from keras.layers import LeakyReLU,PReLU,ELU\n",
        "from keras.layers import Dropout\n",
        "\n",
        "\n",
        "# Initialising the ANN\n",
        "classifier = Sequential()\n",
        "\n",
        "# Adding the input layer and the first hidden layer\n",
        "classifier.add(Dense(units = 6, kernel_initializer= 'he_uniform',activation='relu',input_dim = 11))\n",
        "\n",
        "# Adding the second hidden layer\n",
        "classifier.add(Dense(units = 6, kernel_initializer= 'he_uniform',activation='relu'))\n",
        "# Adding the output layer\n",
        "classifier.add(Dense(units = 1, kernel_initializer= 'glorot_uniform', activation = 'sigmoid'))\n",
        "\n",
        "# Compiling the ANN\n",
        "classifier.compile(optimizer = 'Adamax', loss = 'binary_crossentropy', metrics = ['accuracy'])\n",
        "\n",
        "# Fitting the ANN to the Training set\n",
        "model_history=classifier.fit(X_train, y_train,validation_split=0.33, batch_size = 10, epochs = 100)\n",
        "\n",
        "# list all data in history\n",
        "\n",
        "print(model_history.history.keys())\n",
        "# summarize history for accuracy\n",
        "plt.plot(model_history.history['accuracy'])\n",
        "plt.plot(model_history.history['val_acc'])\n",
        "plt.title('model accuracy')\n",
        "plt.ylabel('accuracy')\n",
        "plt.xlabel('epoch')\n",
        "plt.legend(['train', 'test'], loc='upper left')\n",
        "plt.show()\n",
        "\n",
        "# summarize history for loss\n",
        "plt.plot(model_history.history['loss'])\n",
        "plt.plot(model_history.history['val_loss'])\n",
        "plt.title('model loss')\n",
        "plt.ylabel('loss')\n",
        "plt.xlabel('epoch')\n",
        "plt.legend(['train', 'test'], loc='upper left')\n",
        "plt.show()\n",
        "\n",
        "# Part 3 - Making the predictions and evaluating the model\n",
        "\n",
        "# Predicting the Test set results\n",
        "y_pred = classifier.predict(X_test)\n",
        "y_pred = (y_pred > 0.5)\n",
        "\n",
        "# Making the Confusion Matrix\n",
        "from sklearn.metrics import confusion_matrix\n",
        "cm = confusion_matrix(y_test, y_pred)\n",
        "\n",
        "# Calculate the Accuracy\n",
        "from sklearn.metrics import accuracy_score\n",
        "score=accuracy_score(y_pred,y_test)\n"
      ],
      "metadata": {
        "colab": {
          "base_uri": "https://localhost:8080/",
          "height": 1000
        },
        "id": "wbYSZV1E9Un3",
        "outputId": "0e94b686-88aa-4bb2-a234-6066e71e8638"
      },
      "execution_count": 17,
      "outputs": [
        {
          "output_type": "stream",
          "name": "stdout",
          "text": [
            "Epoch 1/100\n",
            "536/536 [==============================] - 5s 8ms/step - loss: 0.6045 - accuracy: 0.7710 - val_loss: 0.5539 - val_accuracy: 0.7864\n",
            "Epoch 2/100\n",
            "536/536 [==============================] - 3s 5ms/step - loss: 0.5277 - accuracy: 0.7949 - val_loss: 0.5015 - val_accuracy: 0.7982\n",
            "Epoch 3/100\n",
            "536/536 [==============================] - 3s 5ms/step - loss: 0.4871 - accuracy: 0.8041 - val_loss: 0.4746 - val_accuracy: 0.8031\n",
            "Epoch 4/100\n",
            "536/536 [==============================] - 3s 5ms/step - loss: 0.4652 - accuracy: 0.8108 - val_loss: 0.4599 - val_accuracy: 0.8035\n",
            "Epoch 5/100\n",
            "536/536 [==============================] - 3s 5ms/step - loss: 0.4521 - accuracy: 0.8123 - val_loss: 0.4520 - val_accuracy: 0.8054\n",
            "Epoch 6/100\n",
            "536/536 [==============================] - 3s 5ms/step - loss: 0.4437 - accuracy: 0.8155 - val_loss: 0.4474 - val_accuracy: 0.8069\n",
            "Epoch 7/100\n",
            "536/536 [==============================] - 3s 5ms/step - loss: 0.4379 - accuracy: 0.8175 - val_loss: 0.4444 - val_accuracy: 0.8092\n",
            "Epoch 8/100\n",
            "536/536 [==============================] - 3s 5ms/step - loss: 0.4337 - accuracy: 0.8188 - val_loss: 0.4423 - val_accuracy: 0.8103\n",
            "Epoch 9/100\n",
            "536/536 [==============================] - 3s 5ms/step - loss: 0.4305 - accuracy: 0.8196 - val_loss: 0.4412 - val_accuracy: 0.8095\n",
            "Epoch 10/100\n",
            "536/536 [==============================] - 3s 5ms/step - loss: 0.4281 - accuracy: 0.8205 - val_loss: 0.4399 - val_accuracy: 0.8084\n",
            "Epoch 11/100\n",
            "536/536 [==============================] - 3s 5ms/step - loss: 0.4265 - accuracy: 0.8205 - val_loss: 0.4389 - val_accuracy: 0.8088\n",
            "Epoch 12/100\n",
            "536/536 [==============================] - 3s 5ms/step - loss: 0.4247 - accuracy: 0.8203 - val_loss: 0.4381 - val_accuracy: 0.8092\n",
            "Epoch 13/100\n",
            "536/536 [==============================] - 3s 5ms/step - loss: 0.4233 - accuracy: 0.8229 - val_loss: 0.4371 - val_accuracy: 0.8084\n",
            "Epoch 14/100\n",
            "536/536 [==============================] - 3s 5ms/step - loss: 0.4217 - accuracy: 0.8216 - val_loss: 0.4365 - val_accuracy: 0.8099\n",
            "Epoch 15/100\n",
            "536/536 [==============================] - 3s 5ms/step - loss: 0.4203 - accuracy: 0.8229 - val_loss: 0.4359 - val_accuracy: 0.8107\n",
            "Epoch 16/100\n",
            "536/536 [==============================] - 3s 5ms/step - loss: 0.4191 - accuracy: 0.8248 - val_loss: 0.4353 - val_accuracy: 0.8095\n",
            "Epoch 17/100\n",
            "536/536 [==============================] - 3s 5ms/step - loss: 0.4177 - accuracy: 0.8248 - val_loss: 0.4348 - val_accuracy: 0.8114\n",
            "Epoch 18/100\n",
            "536/536 [==============================] - 3s 5ms/step - loss: 0.4168 - accuracy: 0.8248 - val_loss: 0.4340 - val_accuracy: 0.8099\n",
            "Epoch 19/100\n",
            "536/536 [==============================] - 3s 5ms/step - loss: 0.4155 - accuracy: 0.8248 - val_loss: 0.4334 - val_accuracy: 0.8114\n",
            "Epoch 20/100\n",
            "536/536 [==============================] - 3s 5ms/step - loss: 0.4143 - accuracy: 0.8270 - val_loss: 0.4327 - val_accuracy: 0.8080\n",
            "Epoch 21/100\n",
            "536/536 [==============================] - 3s 5ms/step - loss: 0.4132 - accuracy: 0.8261 - val_loss: 0.4318 - val_accuracy: 0.8111\n",
            "Epoch 22/100\n",
            "536/536 [==============================] - 3s 5ms/step - loss: 0.4122 - accuracy: 0.8263 - val_loss: 0.4308 - val_accuracy: 0.8111\n",
            "Epoch 23/100\n",
            "536/536 [==============================] - 3s 5ms/step - loss: 0.4108 - accuracy: 0.8255 - val_loss: 0.4299 - val_accuracy: 0.8111\n",
            "Epoch 24/100\n",
            "536/536 [==============================] - 3s 5ms/step - loss: 0.4093 - accuracy: 0.8270 - val_loss: 0.4288 - val_accuracy: 0.8118\n",
            "Epoch 25/100\n",
            "536/536 [==============================] - 3s 5ms/step - loss: 0.4078 - accuracy: 0.8272 - val_loss: 0.4275 - val_accuracy: 0.8133\n",
            "Epoch 26/100\n",
            "536/536 [==============================] - 3s 5ms/step - loss: 0.4061 - accuracy: 0.8276 - val_loss: 0.4257 - val_accuracy: 0.8114\n",
            "Epoch 27/100\n",
            "536/536 [==============================] - 3s 5ms/step - loss: 0.4043 - accuracy: 0.8289 - val_loss: 0.4238 - val_accuracy: 0.8137\n",
            "Epoch 28/100\n",
            "536/536 [==============================] - 3s 5ms/step - loss: 0.4023 - accuracy: 0.8304 - val_loss: 0.4220 - val_accuracy: 0.8160\n",
            "Epoch 29/100\n",
            "536/536 [==============================] - 3s 5ms/step - loss: 0.4001 - accuracy: 0.8300 - val_loss: 0.4202 - val_accuracy: 0.8167\n",
            "Epoch 30/100\n",
            "536/536 [==============================] - 3s 5ms/step - loss: 0.3978 - accuracy: 0.8328 - val_loss: 0.4181 - val_accuracy: 0.8171\n",
            "Epoch 31/100\n",
            "536/536 [==============================] - 3s 5ms/step - loss: 0.3956 - accuracy: 0.8336 - val_loss: 0.4161 - val_accuracy: 0.8186\n",
            "Epoch 32/100\n",
            "536/536 [==============================] - 3s 5ms/step - loss: 0.3933 - accuracy: 0.8358 - val_loss: 0.4142 - val_accuracy: 0.8179\n",
            "Epoch 33/100\n",
            "536/536 [==============================] - 3s 5ms/step - loss: 0.3912 - accuracy: 0.8377 - val_loss: 0.4126 - val_accuracy: 0.8205\n",
            "Epoch 34/100\n",
            "536/536 [==============================] - 3s 5ms/step - loss: 0.3892 - accuracy: 0.8380 - val_loss: 0.4108 - val_accuracy: 0.8213\n",
            "Epoch 35/100\n",
            "536/536 [==============================] - 3s 5ms/step - loss: 0.3870 - accuracy: 0.8390 - val_loss: 0.4088 - val_accuracy: 0.8243\n",
            "Epoch 36/100\n",
            "536/536 [==============================] - 3s 5ms/step - loss: 0.3849 - accuracy: 0.8405 - val_loss: 0.4068 - val_accuracy: 0.8243\n",
            "Epoch 37/100\n",
            "536/536 [==============================] - 4s 8ms/step - loss: 0.3827 - accuracy: 0.8419 - val_loss: 0.4053 - val_accuracy: 0.8232\n",
            "Epoch 38/100\n",
            "536/536 [==============================] - 3s 5ms/step - loss: 0.3808 - accuracy: 0.8431 - val_loss: 0.4032 - val_accuracy: 0.8254\n",
            "Epoch 39/100\n",
            "536/536 [==============================] - 3s 5ms/step - loss: 0.3790 - accuracy: 0.8425 - val_loss: 0.4014 - val_accuracy: 0.8262\n",
            "Epoch 40/100\n",
            "536/536 [==============================] - 3s 5ms/step - loss: 0.3771 - accuracy: 0.8444 - val_loss: 0.3995 - val_accuracy: 0.8270\n",
            "Epoch 41/100\n",
            "536/536 [==============================] - 3s 5ms/step - loss: 0.3751 - accuracy: 0.8462 - val_loss: 0.3977 - val_accuracy: 0.8277\n",
            "Epoch 42/100\n",
            "536/536 [==============================] - 3s 5ms/step - loss: 0.3733 - accuracy: 0.8470 - val_loss: 0.3960 - val_accuracy: 0.8292\n",
            "Epoch 43/100\n",
            "536/536 [==============================] - 3s 5ms/step - loss: 0.3715 - accuracy: 0.8475 - val_loss: 0.3942 - val_accuracy: 0.8289\n",
            "Epoch 44/100\n",
            "536/536 [==============================] - 3s 5ms/step - loss: 0.3697 - accuracy: 0.8487 - val_loss: 0.3927 - val_accuracy: 0.8300\n",
            "Epoch 45/100\n",
            "536/536 [==============================] - 3s 5ms/step - loss: 0.3680 - accuracy: 0.8489 - val_loss: 0.3914 - val_accuracy: 0.8300\n",
            "Epoch 46/100\n",
            "536/536 [==============================] - 3s 5ms/step - loss: 0.3663 - accuracy: 0.8505 - val_loss: 0.3900 - val_accuracy: 0.8326\n",
            "Epoch 47/100\n",
            "536/536 [==============================] - 3s 5ms/step - loss: 0.3648 - accuracy: 0.8515 - val_loss: 0.3885 - val_accuracy: 0.8334\n",
            "Epoch 48/100\n",
            "536/536 [==============================] - 3s 5ms/step - loss: 0.3634 - accuracy: 0.8513 - val_loss: 0.3866 - val_accuracy: 0.8330\n",
            "Epoch 49/100\n",
            "536/536 [==============================] - 3s 5ms/step - loss: 0.3618 - accuracy: 0.8513 - val_loss: 0.3853 - val_accuracy: 0.8349\n",
            "Epoch 50/100\n",
            "536/536 [==============================] - 3s 5ms/step - loss: 0.3605 - accuracy: 0.8537 - val_loss: 0.3840 - val_accuracy: 0.8376\n",
            "Epoch 51/100\n",
            "536/536 [==============================] - 3s 5ms/step - loss: 0.3591 - accuracy: 0.8530 - val_loss: 0.3825 - val_accuracy: 0.8379\n",
            "Epoch 52/100\n",
            "536/536 [==============================] - 3s 5ms/step - loss: 0.3579 - accuracy: 0.8546 - val_loss: 0.3813 - val_accuracy: 0.8395\n",
            "Epoch 53/100\n",
            "536/536 [==============================] - 3s 5ms/step - loss: 0.3565 - accuracy: 0.8556 - val_loss: 0.3802 - val_accuracy: 0.8391\n",
            "Epoch 54/100\n",
            "536/536 [==============================] - 3s 5ms/step - loss: 0.3553 - accuracy: 0.8563 - val_loss: 0.3789 - val_accuracy: 0.8387\n",
            "Epoch 55/100\n",
            "536/536 [==============================] - 3s 5ms/step - loss: 0.3542 - accuracy: 0.8559 - val_loss: 0.3784 - val_accuracy: 0.8387\n",
            "Epoch 56/100\n",
            "536/536 [==============================] - 3s 5ms/step - loss: 0.3533 - accuracy: 0.8571 - val_loss: 0.3775 - val_accuracy: 0.8387\n",
            "Epoch 57/100\n",
            "536/536 [==============================] - 3s 5ms/step - loss: 0.3526 - accuracy: 0.8571 - val_loss: 0.3762 - val_accuracy: 0.8402\n",
            "Epoch 58/100\n",
            "536/536 [==============================] - 3s 5ms/step - loss: 0.3519 - accuracy: 0.8569 - val_loss: 0.3755 - val_accuracy: 0.8398\n",
            "Epoch 59/100\n",
            "536/536 [==============================] - 3s 5ms/step - loss: 0.3510 - accuracy: 0.8572 - val_loss: 0.3746 - val_accuracy: 0.8421\n",
            "Epoch 60/100\n",
            "536/536 [==============================] - 3s 5ms/step - loss: 0.3502 - accuracy: 0.8580 - val_loss: 0.3736 - val_accuracy: 0.8417\n",
            "Epoch 61/100\n",
            "536/536 [==============================] - 3s 5ms/step - loss: 0.3495 - accuracy: 0.8571 - val_loss: 0.3730 - val_accuracy: 0.8421\n",
            "Epoch 62/100\n",
            "536/536 [==============================] - 3s 5ms/step - loss: 0.3490 - accuracy: 0.8584 - val_loss: 0.3724 - val_accuracy: 0.8425\n",
            "Epoch 63/100\n",
            "536/536 [==============================] - 3s 5ms/step - loss: 0.3481 - accuracy: 0.8584 - val_loss: 0.3718 - val_accuracy: 0.8421\n",
            "Epoch 64/100\n",
            "536/536 [==============================] - 3s 5ms/step - loss: 0.3477 - accuracy: 0.8584 - val_loss: 0.3711 - val_accuracy: 0.8421\n",
            "Epoch 65/100\n",
            "536/536 [==============================] - 3s 5ms/step - loss: 0.3471 - accuracy: 0.8576 - val_loss: 0.3706 - val_accuracy: 0.8413\n",
            "Epoch 66/100\n",
            "536/536 [==============================] - 3s 5ms/step - loss: 0.3466 - accuracy: 0.8574 - val_loss: 0.3702 - val_accuracy: 0.8444\n",
            "Epoch 67/100\n",
            "536/536 [==============================] - 3s 5ms/step - loss: 0.3460 - accuracy: 0.8582 - val_loss: 0.3694 - val_accuracy: 0.8425\n",
            "Epoch 68/100\n",
            "536/536 [==============================] - 3s 5ms/step - loss: 0.3456 - accuracy: 0.8597 - val_loss: 0.3689 - val_accuracy: 0.8429\n",
            "Epoch 69/100\n",
            "536/536 [==============================] - 3s 5ms/step - loss: 0.3451 - accuracy: 0.8587 - val_loss: 0.3683 - val_accuracy: 0.8436\n",
            "Epoch 70/100\n",
            "536/536 [==============================] - 3s 5ms/step - loss: 0.3445 - accuracy: 0.8591 - val_loss: 0.3680 - val_accuracy: 0.8432\n",
            "Epoch 71/100\n",
            "536/536 [==============================] - 3s 5ms/step - loss: 0.3442 - accuracy: 0.8587 - val_loss: 0.3678 - val_accuracy: 0.8440\n",
            "Epoch 72/100\n",
            "536/536 [==============================] - 3s 5ms/step - loss: 0.3439 - accuracy: 0.8576 - val_loss: 0.3670 - val_accuracy: 0.8448\n",
            "Epoch 73/100\n",
            "536/536 [==============================] - 3s 5ms/step - loss: 0.3432 - accuracy: 0.8595 - val_loss: 0.3671 - val_accuracy: 0.8463\n",
            "Epoch 74/100\n",
            "536/536 [==============================] - 3s 5ms/step - loss: 0.3431 - accuracy: 0.8599 - val_loss: 0.3663 - val_accuracy: 0.8448\n",
            "Epoch 75/100\n",
            "536/536 [==============================] - 3s 5ms/step - loss: 0.3425 - accuracy: 0.8584 - val_loss: 0.3662 - val_accuracy: 0.8448\n",
            "Epoch 76/100\n",
            "536/536 [==============================] - 3s 5ms/step - loss: 0.3422 - accuracy: 0.8584 - val_loss: 0.3656 - val_accuracy: 0.8466\n",
            "Epoch 77/100\n",
            "536/536 [==============================] - 3s 5ms/step - loss: 0.3416 - accuracy: 0.8586 - val_loss: 0.3655 - val_accuracy: 0.8470\n",
            "Epoch 78/100\n",
            "536/536 [==============================] - 3s 5ms/step - loss: 0.3412 - accuracy: 0.8593 - val_loss: 0.3650 - val_accuracy: 0.8463\n",
            "Epoch 79/100\n",
            "536/536 [==============================] - 3s 5ms/step - loss: 0.3409 - accuracy: 0.8587 - val_loss: 0.3646 - val_accuracy: 0.8474\n",
            "Epoch 80/100\n",
            "536/536 [==============================] - 3s 5ms/step - loss: 0.3406 - accuracy: 0.8591 - val_loss: 0.3643 - val_accuracy: 0.8478\n",
            "Epoch 81/100\n",
            "536/536 [==============================] - 3s 5ms/step - loss: 0.3401 - accuracy: 0.8586 - val_loss: 0.3640 - val_accuracy: 0.8485\n",
            "Epoch 82/100\n",
            "536/536 [==============================] - 3s 5ms/step - loss: 0.3397 - accuracy: 0.8599 - val_loss: 0.3635 - val_accuracy: 0.8489\n",
            "Epoch 83/100\n",
            "536/536 [==============================] - 3s 5ms/step - loss: 0.3394 - accuracy: 0.8591 - val_loss: 0.3632 - val_accuracy: 0.8482\n",
            "Epoch 84/100\n",
            "536/536 [==============================] - 3s 5ms/step - loss: 0.3392 - accuracy: 0.8595 - val_loss: 0.3627 - val_accuracy: 0.8482\n",
            "Epoch 85/100\n",
            "536/536 [==============================] - 3s 5ms/step - loss: 0.3389 - accuracy: 0.8597 - val_loss: 0.3627 - val_accuracy: 0.8482\n",
            "Epoch 86/100\n",
            "536/536 [==============================] - 3s 5ms/step - loss: 0.3386 - accuracy: 0.8612 - val_loss: 0.3622 - val_accuracy: 0.8489\n",
            "Epoch 87/100\n",
            "536/536 [==============================] - 3s 5ms/step - loss: 0.3384 - accuracy: 0.8593 - val_loss: 0.3618 - val_accuracy: 0.8497\n",
            "Epoch 88/100\n",
            "536/536 [==============================] - 3s 5ms/step - loss: 0.3381 - accuracy: 0.8589 - val_loss: 0.3619 - val_accuracy: 0.8482\n",
            "Epoch 89/100\n",
            "536/536 [==============================] - 3s 5ms/step - loss: 0.3381 - accuracy: 0.8614 - val_loss: 0.3614 - val_accuracy: 0.8504\n",
            "Epoch 90/100\n",
            "536/536 [==============================] - 3s 5ms/step - loss: 0.3375 - accuracy: 0.8608 - val_loss: 0.3610 - val_accuracy: 0.8501\n",
            "Epoch 91/100\n",
            "536/536 [==============================] - 3s 5ms/step - loss: 0.3376 - accuracy: 0.8604 - val_loss: 0.3607 - val_accuracy: 0.8527\n",
            "Epoch 92/100\n",
            "536/536 [==============================] - 3s 5ms/step - loss: 0.3371 - accuracy: 0.8595 - val_loss: 0.3604 - val_accuracy: 0.8508\n",
            "Epoch 93/100\n",
            "536/536 [==============================] - 3s 5ms/step - loss: 0.3370 - accuracy: 0.8595 - val_loss: 0.3600 - val_accuracy: 0.8523\n",
            "Epoch 94/100\n",
            "536/536 [==============================] - 3s 5ms/step - loss: 0.3367 - accuracy: 0.8604 - val_loss: 0.3597 - val_accuracy: 0.8523\n",
            "Epoch 95/100\n",
            "536/536 [==============================] - 3s 5ms/step - loss: 0.3365 - accuracy: 0.8615 - val_loss: 0.3598 - val_accuracy: 0.8523\n",
            "Epoch 96/100\n",
            "536/536 [==============================] - 3s 5ms/step - loss: 0.3363 - accuracy: 0.8600 - val_loss: 0.3593 - val_accuracy: 0.8519\n",
            "Epoch 97/100\n",
            "536/536 [==============================] - 3s 5ms/step - loss: 0.3359 - accuracy: 0.8615 - val_loss: 0.3594 - val_accuracy: 0.8519\n",
            "Epoch 98/100\n",
            "536/536 [==============================] - 3s 5ms/step - loss: 0.3358 - accuracy: 0.8610 - val_loss: 0.3591 - val_accuracy: 0.8535\n",
            "Epoch 99/100\n",
            "536/536 [==============================] - 3s 5ms/step - loss: 0.3355 - accuracy: 0.8606 - val_loss: 0.3589 - val_accuracy: 0.8538\n",
            "Epoch 100/100\n",
            "536/536 [==============================] - 3s 5ms/step - loss: 0.3352 - accuracy: 0.8619 - val_loss: 0.3588 - val_accuracy: 0.8535\n",
            "dict_keys(['loss', 'accuracy', 'val_loss', 'val_accuracy'])\n"
          ]
        },
        {
          "output_type": "error",
          "ename": "KeyError",
          "evalue": "ignored",
          "traceback": [
            "\u001b[0;31m---------------------------------------------------------------------------\u001b[0m",
            "\u001b[0;31mKeyError\u001b[0m                                  Traceback (most recent call last)",
            "\u001b[0;32m<ipython-input-17-afd3475c6377>\u001b[0m in \u001b[0;36m<module>\u001b[0;34m()\u001b[0m\n\u001b[1;32m     67\u001b[0m \u001b[0;31m# summarize history for accuracy\u001b[0m\u001b[0;34m\u001b[0m\u001b[0;34m\u001b[0m\u001b[0;34m\u001b[0m\u001b[0m\n\u001b[1;32m     68\u001b[0m \u001b[0mplt\u001b[0m\u001b[0;34m.\u001b[0m\u001b[0mplot\u001b[0m\u001b[0;34m(\u001b[0m\u001b[0mmodel_history\u001b[0m\u001b[0;34m.\u001b[0m\u001b[0mhistory\u001b[0m\u001b[0;34m[\u001b[0m\u001b[0;34m'accuracy'\u001b[0m\u001b[0;34m]\u001b[0m\u001b[0;34m)\u001b[0m\u001b[0;34m\u001b[0m\u001b[0;34m\u001b[0m\u001b[0m\n\u001b[0;32m---> 69\u001b[0;31m \u001b[0mplt\u001b[0m\u001b[0;34m.\u001b[0m\u001b[0mplot\u001b[0m\u001b[0;34m(\u001b[0m\u001b[0mmodel_history\u001b[0m\u001b[0;34m.\u001b[0m\u001b[0mhistory\u001b[0m\u001b[0;34m[\u001b[0m\u001b[0;34m'val_acc'\u001b[0m\u001b[0;34m]\u001b[0m\u001b[0;34m)\u001b[0m\u001b[0;34m\u001b[0m\u001b[0;34m\u001b[0m\u001b[0m\n\u001b[0m\u001b[1;32m     70\u001b[0m \u001b[0mplt\u001b[0m\u001b[0;34m.\u001b[0m\u001b[0mtitle\u001b[0m\u001b[0;34m(\u001b[0m\u001b[0;34m'model accuracy'\u001b[0m\u001b[0;34m)\u001b[0m\u001b[0;34m\u001b[0m\u001b[0;34m\u001b[0m\u001b[0m\n\u001b[1;32m     71\u001b[0m \u001b[0mplt\u001b[0m\u001b[0;34m.\u001b[0m\u001b[0mylabel\u001b[0m\u001b[0;34m(\u001b[0m\u001b[0;34m'accuracy'\u001b[0m\u001b[0;34m)\u001b[0m\u001b[0;34m\u001b[0m\u001b[0;34m\u001b[0m\u001b[0m\n",
            "\u001b[0;31mKeyError\u001b[0m: 'val_acc'"
          ]
        },
        {
          "output_type": "display_data",
          "data": {
            "image/png": "[encoded data removed]",
            "text/plain": [
              "<Figure size 432x288 with 1 Axes>"
            ]
          },
          "metadata": {
            "needs_background": "light"
          }
        }
      ]
    }
  ]
}